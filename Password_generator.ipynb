{
  "cells": [
    {
      "cell_type": "markdown",
      "metadata": {
        "id": "view-in-github",
        "colab_type": "text"
      },
      "source": [
        "<a href=\"https://colab.research.google.com/github/GayathriMada/InternPedia/blob/main/Password_generator.ipynb\" target=\"_parent\"><img src=\"https://colab.research.google.com/assets/colab-badge.svg\" alt=\"Open In Colab\"/></a>"
      ]
    },
    {
      "cell_type": "code",
      "execution_count": null,
      "metadata": {
        "id": "z1fdD66g8dXR"
      },
      "outputs": [],
      "source": [
        "import string\n",
        "import secrets\n",
        "import pyperclip\n",
        "\n",
        "def generate_password(length, complexity):\n",
        "    \"\"\"\n",
        "    Generate a random password with specified length and complexity.\n",
        "\n",
        "    Args:\n",
        "        length (int): The length of the password.\n",
        "        complexity (str): A string representing the desired complexity of the password.\n",
        "                          'l' for lowercase letters, 'u' for uppercase letters,\n",
        "                          'd' for digits, 's' for symbols.\n",
        "\n",
        "    Returns:\n",
        "        str: The generated password.\n",
        "    \"\"\"\n",
        "    # Define character sets for each complexity type\n",
        "    lowercase_letters = string.ascii_lowercase\n",
        "    uppercase_letters = string.ascii_uppercase\n",
        "    digits = string.digits\n",
        "    symbols = string.punctuation\n",
        "\n",
        "    # Create a charset based on the specified complexity\n",
        "    charset = \"\"\n",
        "    if 'l' in complexity:\n",
        "        charset += lowercase_letters\n",
        "    if 'u' in complexity:\n",
        "        charset += uppercase_letters\n",
        "    if 'd' in complexity:\n",
        "        charset += digits\n",
        "    if 's' in complexity:\n",
        "        charset += symbols\n",
        "\n",
        "    # Check if valid complexity is provided\n",
        "    if not charset:\n",
        "        print(\"Invalid complexity! Please include at least one of 'l', 'u', 'd', 's'.\")\n",
        "        return None\n",
        "\n",
        "    # Generate password using secrets module for randomness\n",
        "    password = ''.join(secrets.choice(charset) for _ in range(length))\n",
        "    return password\n",
        "\n",
        "def display_welcome():\n",
        "    \"\"\"Display a welcome message for the password generator.\"\"\"\n",
        "    print(\"Welcome to Password Generator\")\n",
        "\n",
        "def display_farewell():\n",
        "    \"\"\"Display a farewell message for the password generator.\"\"\"\n",
        "    print(\"Thank you for using Password Generator. Goodbye!\")\n",
        "\n",
        "def generate_passwords():\n",
        "    \"\"\"Generate passwords based on user input.\"\"\"\n",
        "    while True:\n",
        "        print(\"\\nPASSWORD GENERATOR MENU:\")\n",
        "        print(\"1. Generate Password\")\n",
        "        print(\"2. Exit\")\n",
        "\n",
        "        # Get user input for choice\n",
        "        choice = input(\"Enter your choice (1/2): \")\n",
        "\n",
        "        if choice == '2':\n",
        "            display_farewell()\n",
        "            break\n",
        "\n",
        "        if choice == '1':\n",
        "            # Prompt user for password length and complexity\n",
        "            length = input(\"Enter password length: \")\n",
        "            complexity = input(\"Enter password complexity (l for lowercase, u for uppercase, d for digits, s for symbols, e.g., lud): \")\n",
        "\n",
        "            try:\n",
        "                # Convert length to integer and check if it's positive\n",
        "                length = int(length)\n",
        "                if length <= 0:\n",
        "                    raise ValueError\n",
        "            except ValueError:\n",
        "                print(\"Invalid input! Please enter a positive integer for password length.\")\n",
        "                continue\n",
        "\n",
        "            # Check if provided complexity is valid\n",
        "            valid_complexity = set('ludse')\n",
        "            if not set(complexity).issubset(valid_complexity):\n",
        "                print(\"Invalid complexity! Please include only 'l', 'u', 'd', 's'.\")\n",
        "                continue\n",
        "\n",
        "            # Generate the password\n",
        "            password = generate_password(length, complexity)\n",
        "            if password:\n",
        "                print(\"Generated Password:\", password)\n",
        "\n",
        "                # Ask user if they want to copy the password to clipboard\n",
        "                copy_to_clipboard = input(\"Do you want to copy the generated password to clipboard? (yes/no): \").lower()\n",
        "                if copy_to_clipboard == 'yes':\n",
        "                    pyperclip.copy(password)\n",
        "                    print(\"Password copied to clipboard!\")\n",
        "        else:\n",
        "            print(\"Invalid choice! Please choose again.\")\n",
        "\n",
        "def main():\n",
        "    \"\"\"Main function to start the password generator.\"\"\"\n",
        "    display_welcome()\n",
        "    generate_passwords()\n",
        "\n",
        "\n",
        "\n"
      ]
    },
    {
      "cell_type": "code",
      "execution_count": null,
      "metadata": {
        "colab": {
          "background_save": true,
          "base_uri": "https://localhost:8080/"
        },
        "id": "V1HY7f8c8sbo",
        "outputId": "7e0e25f6-d51b-4d84-e222-103d5222cce9"
      },
      "outputs": [
        {
          "name": "stdout",
          "output_type": "stream",
          "text": [
            "Welcome to Password Generator\n",
            "\n",
            "PASSWORD GENERATOR MENU:\n",
            "1. Generate Password\n",
            "2. Exit\n",
            "Generated Password: ~V8e2%<\n",
            "\n",
            "PASSWORD GENERATOR MENU:\n",
            "1. Generate Password\n",
            "2. Exit\n"
          ]
        }
      ],
      "source": [
        "if __name__ == \"__main__\":\n",
        "    main()\n"
      ]
    }
  ],
  "metadata": {
    "colab": {
      "provenance": [],
      "authorship_tag": "ABX9TyOd/yMyOHZJ4vCzmCd2urmR",
      "include_colab_link": true
    },
    "kernelspec": {
      "display_name": "Python 3",
      "name": "python3"
    },
    "language_info": {
      "name": "python"
    }
  },
  "nbformat": 4,
  "nbformat_minor": 0
}